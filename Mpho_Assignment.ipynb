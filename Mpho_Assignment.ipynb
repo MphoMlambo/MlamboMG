{
  "metadata": {
    "language_info": {
      "codemirror_mode": {
        "name": "python",
        "version": 3
      },
      "file_extension": ".py",
      "mimetype": "text/x-python",
      "name": "python",
      "nbconvert_exporter": "python",
      "pygments_lexer": "ipython3",
      "version": "3.8"
    },
    "kernelspec": {
      "name": "python",
      "display_name": "Pyolite",
      "language": "python"
    }
  },
  "nbformat_minor": 4,
  "nbformat": 4,
  "cells": [
    {
      "cell_type": "markdown",
      "source": "# My Jupyter Notebook on IBM Watson Studio",
      "metadata": {}
    },
    {
      "cell_type": "markdown",
      "source": "**Mpho Mlambo**\n\nCategory and Shopper Lead\n",
      "metadata": {}
    },
    {
      "cell_type": "markdown",
      "source": "_I am interested in Data Science because my job requires me to transform big data, therefore analyse it and provide insights through graphs, tables and descriptive storylines._",
      "metadata": {}
    },
    {
      "cell_type": "markdown",
      "source": "### The code will calculate the number of years between each generation",
      "metadata": {}
    },
    {
      "cell_type": "code",
      "source": "GenerationZ = 1996\nGenerationY = 1980\nGenerationX = 1965\nBabyBoomers = 1946\n\nprint(GenerationZ - GenerationY)\nprint(GenerationY - GenerationX)\nprint(GenerationX - BabyBoomers)",
      "metadata": {
        "trusted": true
      },
      "execution_count": 16,
      "outputs": [
        {
          "name": "stdout",
          "text": "16\n15\n19\n",
          "output_type": "stream"
        }
      ]
    },
    {
      "cell_type": "markdown",
      "source": ">It always seems impossible until it's done. - **_Nelson Mandela_**\n\n<img src = https://wellquo.com/wp-content/uploads/2020/03/Nelson-Mandela-Quotes-for-Success.jpg>\n\nPicture Reference:\n           https://wellquo.com/wp-content/uploads/2020/03/Nelson-Mandela-Quotes-for-Success.jpg\n\n\n##### Other Nelson Mandela quotes\n\n* “Education is the most powerful weapon which you can use to change the world.” ...\n* “It is in your hands, to make a better world for all who live in it.” ...\n* “A winner is a dreamer who never gives up.” ...\n* “Overcoming poverty is not a task of charity, it is an act of justice.”",
      "metadata": {}
    }
  ]
}